{
 "cells": [
  {
   "cell_type": "code",
   "execution_count": 1,
   "id": "69f77090",
   "metadata": {},
   "outputs": [
    {
     "data": {
      "application/javascript": [
       "\n",
       "try {\n",
       "require(['notebook/js/codecell'], function(codecell) {\n",
       "  codecell.CodeCell.options_default.highlight_modes[\n",
       "      'magic_text/x-csrc'] = {'reg':[/^%%microblaze/]};\n",
       "  Jupyter.notebook.events.one('kernel_ready.Kernel', function(){\n",
       "      Jupyter.notebook.get_cells().map(function(cell){\n",
       "          if (cell.cell_type == 'code'){ cell.auto_highlight(); } }) ;\n",
       "  });\n",
       "});\n",
       "} catch (e) {};\n"
      ]
     },
     "metadata": {},
     "output_type": "display_data"
    },
    {
     "data": {
      "application/javascript": [
       "\n",
       "try {\n",
       "require(['notebook/js/codecell'], function(codecell) {\n",
       "  codecell.CodeCell.options_default.highlight_modes[\n",
       "      'magic_text/x-csrc'] = {'reg':[/^%%pybind11/]};\n",
       "  Jupyter.notebook.events.one('kernel_ready.Kernel', function(){\n",
       "      Jupyter.notebook.get_cells().map(function(cell){\n",
       "          if (cell.cell_type == 'code'){ cell.auto_highlight(); } }) ;\n",
       "  });\n",
       "});\n",
       "} catch (e) {};\n"
      ]
     },
     "metadata": {},
     "output_type": "display_data"
    }
   ],
   "source": [
    "import numpy as np\n",
    "import cv2\n",
    "import csv\n",
    "from pynq import allocate\n",
    "from pynq import Overlay\n",
    "\n",
    "ol = Overlay('final_decr_v1_8.bit') \n",
    "ol?"
   ]
  },
  {
   "cell_type": "code",
   "execution_count": 3,
   "id": "15e25ae8",
   "metadata": {},
   "outputs": [],
   "source": [
    "# #testing few stuff\n",
    "# test_val = np.int64(-99999)\n",
    "# test_all = allocate(shape=(1,), dtype=np.uint32)\n",
    "# test_all[0] = test_val\n",
    "# print(type(test_all[0]))\n",
    "# print(test_all)"
   ]
  },
  {
   "cell_type": "code",
   "execution_count": 2,
   "id": "74d65363",
   "metadata": {},
   "outputs": [
    {
     "name": "stdout",
     "output_type": "stream",
     "text": [
      "61\n",
      "[[0, 0, 0, 0, 0, 0, 0, 0, 0, 0, 0, 0, 0, 0, 0, 0, 0, 0, 0, 0, 0, 0, 0, 0, 0, 0, 0, 0, 0, 0, 0, 0, 0, 0, 0, 0, 0, 0, 0, 0, 0, 0, 0, 0, 0, 0, 0, 0, 0, 0, 0, 0, 0, 0, 0, 0, 0, 0, 0, 0, 0], [0, 0, 0, 0, 0, 0, 0, 0, 0, 0, 0, 0, 0, 0, 0, 0, 0, 0, 0, 0, 0, 0, 0, 0, 0, 0, 0, 0, 0, 0, 0, 0, 0, 0, 0, 0, 0, 0, 0, 0, 0, 0, 0, 0, 0, 0, 0, 0, 0, 0, 0, 0, 0, 0, 0, 0, 0, 0, 0, 1, 0], [0, 0, 0, 0, 0, 0, 0, 0, 0, 0, 0, 0, 0, 0, 0, 0, 0, 0, 0, 0, 0, 0, 0, 0, 0, 0, 0, 0, 0, 0, 0, 0, 0, 0, 0, 0, 0, 0, 0, 1, 0, 0, 0, 0, 0, 0, 0, 0, 0, 0, 0, 0, 0, 0, 0, 0, 0, 0, 0, 1, 0], [0, 0, 0, 0, 0, 0, 0, 0, 0, 0, 0, 0, 0, 0, 0, 0, 0, 0, 0, 0, 0, 0, 0, 0, 0, 0, 0, 0, 0, 0, 0, 1, 0, 0, 0, 0, 0, 0, 0, 0, 0, 0, 0, 0, 0, 1, 0, 0, 0, 0, 0, 0, 0, 0, 0, 0, 0, 0, 0, 1, 0], [0, 0, 0, 0, 0, 0, 0, 0, 0, 0, 0, 0, 0, 0, 0, 0, 0, 0, 0, 0, 0, 0, 0, 0, 0, 0, 1, 0, 0, 0, 0, 0, 0, 0, 0, 0, 0, 1, 0, 0, 0, 0, 0, 0, 0, 0, 0, 0, 1, 0, 0, 0, 0, 0, 0, 0, 0, 0, 0, 0, 1], [0, 0, 0, 0, 0, 0, 0, 0, 0, 0, 0, 0, 0, 0, 0, 0, 0, 0, 0, 0, 0, 0, 0, 1, 0, 0, 0, 0, 0, 0, 0, 0, 1, 0, 0, 0, 0, 0, 0, 0, 0, 1, 0, 0, 0, 0, 0, 0, 0, 0, 1, 0, 0, 0, 0, 0, 0, 0, 0, 1, 0], [0, 0, 0, 0, 0, 0, 0, 0, 0, 0, 0, 0, 0, 0, 0, 0, 0, 0, 0, 0, 1, 0, 0, 0, 0, 0, 0, 0, 1, 0, 0, 0, 0, 0, 0, 0, 1, 0, 0, 0, 0, 0, 0, 0, 1, 0, 0, 0, 0, 0, 0, 0, 1, 0, 0, 0, 0, 0, 0, 1, 0], [0, 0, 0, 0, 0, 0, 0, 0, 0, 0, 0, 0, 0, 0, 0, 0, 0, 0, 1, 0, 0, 0, 0, 0, 0, 1, 0, 0, 0, 0, 0, 0, 1, 0, 0, 0, 0, 0, 0, 1, 0, 0, 0, 0, 0, 0, 1, 0, 0, 0, 0, 0, 1, 0, 0, 0, 0, 0, 0, 1, 0], [0, 0, 0, 0, 0, 0, 0, 0, 0, 0, 0, 0, 0, 0, 0, 0, 0, 1, 0, 0, 0, 0, 0, 1, 0, 0, 0, 0, 0, 1, 0, 0, 0, 0, 0, 1, 0, 0, 0, 0, 0, 1, 0, 0, 0, 0, 0, 1, 0, 0, 0, 0, 0, 1, 0, 0, 0, 0, 0, 1, 0], [0, 0, 0, 0, 0, 0, 0, 0, 0, 0, 0, 0, 0, 0, 0, 1, 0, 0, 0, 0, 0, 1, 0, 0, 0, 0, 1, 0, 0, 0, 0, 0, 1, 0, 0, 0, 0, 1, 0, 0, 0, 0, 0, 1, 0, 0, 0, 0, 1, 0, 0, 0, 0, 0, 1, 0, 0, 0, 0, 1, 0]]\n"
     ]
    }
   ],
   "source": [
    "#loading the pattern from .csv and choosing the 1\n",
    "\n",
    "patterns = []  # each item is a list of 0/1 for that digit (digit 1-9)\n",
    "\n",
    "with open(\"normalized_matrix.csv\", \"r\") as file:\n",
    "    reader = csv.reader(file)\n",
    "    rows = list(reader)  # Load all rows into memory\n",
    "\n",
    "    if rows:\n",
    "        pattern_length = len(rows[0])  # Get the number of bits per pattern\n",
    "        patterns.append([0] * pattern_length)  # Add the 0th pattern (all zeros)\n",
    "\n",
    "        for row in rows:\n",
    "            pattern = [int(float(bit.strip())) for bit in row]\n",
    "            patterns.append(pattern)\n",
    "            \n",
    "print(len(patterns[0]))\n",
    "print(patterns)\n",
    "\n",
    "# choosen_ones = [0,59,39,45,37,50,44,52,41,54]\n",
    "# print(choosen_ones)"
   ]
  },
  {
   "cell_type": "code",
   "execution_count": 3,
   "id": "71a3fe1a",
   "metadata": {},
   "outputs": [
    {
     "name": "stdout",
     "output_type": "stream",
     "text": [
      "[(0, 0), (0, 134217728), (0, 134217856), (2147483648, 134225920), (67108864, 268501024), (8388608, 134480385), (269484032, 135270416), (33816576, 135282817), (545390592, 136348168), (69238784, 138479649)]\n"
     ]
    }
   ],
   "source": [
    "def pad_and_chunk_pattern(pattern):\n",
    "    padded = pattern + [0] * (64 - len(pattern))  # add 3 zeros\n",
    "    bitstring = \"\".join(str(bit) for bit in padded[::-1])  # reverse the bit list\n",
    "    chunk_high = int(bitstring[32:64], 2)  # bits 32 to 63\n",
    "    chunk_low =  int(bitstring[0:32], 2)  # bits 0 to 31\n",
    "    return chunk_high, chunk_low\n",
    "\n",
    "packed_chunks = []  # list of (high, low) tuples\n",
    "\n",
    "for pattern in patterns:\n",
    "    high, low = pad_and_chunk_pattern(pattern)\n",
    "    packed_chunks.append((high, low))\n",
    "    \n",
    "print(packed_chunks)"
   ]
  },
  {
   "cell_type": "code",
   "execution_count": 4,
   "id": "f4989763",
   "metadata": {},
   "outputs": [
    {
     "name": "stdout",
     "output_type": "stream",
     "text": [
      "Image Shape: (1080, 1920, 4)\n",
      "Image Width: 1920, Height: 1080\n",
      "Number of Channels: 4\n",
      "Data Type: uint8\n"
     ]
    }
   ],
   "source": [
    "# #image analysis\n",
    "\n",
    "img_path = \"modified_image_withSound_7_encrypt_key_v45.png\"\n",
    "# Load image\n",
    "img = cv2.imread(img_path, cv2.IMREAD_UNCHANGED)  # Preserve alpha channel\n",
    "if img is None:\n",
    "    print(f\"Skipping {img_file}: Unable to read\")\n",
    "    exit()\n",
    "    \n",
    "# #----------------------- Don't forget to remove this for later\n",
    "# img = img[0:1, 0:18]  # Shape: (1, 18, channels)\n",
    "# print(img)\n",
    "# #------------------------\n",
    "\n",
    "# Get image details\n",
    "height, width = img.shape[:2]\n",
    "channels = img.shape[2] if len(img.shape) == 3 else 1  # Check if the image has color channels\n",
    "dtype = img.dtype  # Data type of image pixels\n",
    "\n",
    "# Print image details\n",
    "print(f\"Image Shape: {img.shape}\")\n",
    "print(f\"Image Width: {width}, Height: {height}\")\n",
    "print(f\"Number of Channels: {channels}\")\n",
    "print(f\"Data Type: {dtype}\")  "
   ]
  },
  {
   "cell_type": "code",
   "execution_count": 7,
   "id": "a3e4fe6f",
   "metadata": {},
   "outputs": [],
   "source": [
    "# # # # test data\n",
    "# sound_data = np.array([[1, 2]], dtype=np.int32)\n",
    "# height = 3\n",
    "# width =  3 \n",
    "# img = np.array([\n",
    "#     [[0, 0, 0, 255], [0, 0, 0, 255], [0, 0, 0, 255]],\n",
    "#     [[0, 0, 0, 255], [160, 170, 180, 255], [190, 200, 210, 255]],\n",
    "#     [[250, 10, 20, 255], [30, 40, 50, 255], [60, 70, 80, 255]]\n",
    "# ], dtype=np.uint8)"
   ]
  },
  {
   "cell_type": "code",
   "execution_count": 5,
   "id": "d4971de9",
   "metadata": {},
   "outputs": [
    {
     "name": "stdout",
     "output_type": "stream",
     "text": [
      "2073600\n",
      "691200\n"
     ]
    }
   ],
   "source": [
    "num_pixels = height * width\n",
    "num_entries = num_pixels\n",
    "num_output = num_pixels//3\n",
    "print(num_pixels)\n",
    "print(num_output)"
   ]
  },
  {
   "cell_type": "code",
   "execution_count": null,
   "id": "5953d376",
   "metadata": {},
   "outputs": [],
   "source": []
  },
  {
   "cell_type": "code",
   "execution_count": 6,
   "id": "725d7546",
   "metadata": {},
   "outputs": [
    {
     "name": "stdout",
     "output_type": "stream",
     "text": [
      "Data embedded successfully!\n"
     ]
    }
   ],
   "source": [
    "# Allocate DMA buffer for PL communication (BGRA format, 32-bit per pixel)\n",
    "# input_buffer = allocate(shape=(height * width,), dtype=np.uint32)\n",
    "input_buffer = allocate(shape=(num_entries + 24,), dtype=np.uint32) #24 = 10*2 + 4\n",
    "output_buffer = allocate(shape=(num_output,), dtype=np.uint32)\n",
    "\n",
    "# # Convert BGRA to 32-bit word (Keep BGRA order)\n",
    "# for i in range(height):\n",
    "#     for j in range(width):\n",
    "#         B, G, R, A = img[i, j]  # Extract 8-bit channel values\n",
    "#         input_buffer[i * width + j + 24] = (B << 24) | (G << 16) | (R << 8) | (A << 0)\n",
    "\n",
    "# print(\"Data embedded successfully!\")\n",
    "\n",
    "bgra = img.reshape(-1, 4).astype(np.uint32)\n",
    "input_buffer[24:] = (bgra[:, 0] << 24) | (bgra[:, 1] << 16) | (bgra[:, 2] << 8) | bgra[:, 3]\n",
    "print(\"Data embedded successfully!\")"
   ]
  },
  {
   "cell_type": "code",
   "execution_count": 7,
   "id": "ae39a7d8",
   "metadata": {},
   "outputs": [
    {
     "name": "stdout",
     "output_type": "stream",
     "text": [
      "[  0   0   0 252]\n",
      "[        0         0         0 ...     12540 336868604      4348]\n",
      "[0 0 0 ... 0 0 0]\n",
      "uint32\n"
     ]
    }
   ],
   "source": [
    "print(img[0,0])\n",
    "print(input_buffer)\n",
    "print(output_buffer)\n",
    "print(input_buffer.dtype)\n",
    "# test_buffer = allocate(shape=(2,), dtype=np.uint32)\n",
    "# test_buffer[0] = -99999\n",
    "# print(test_buffer)"
   ]
  },
  {
   "cell_type": "code",
   "execution_count": 8,
   "id": "ee90d16f",
   "metadata": {},
   "outputs": [
    {
     "name": "stdout",
     "output_type": "stream",
     "text": [
      "[       116 1395724288] uint32\n",
      "[        0         0         0 ...     12540 336868604      4348]\n",
      "2073600\n",
      "2073624\n"
     ]
    }
   ],
   "source": [
    "#writing initial 24 values\n",
    "for i, chunk in enumerate(packed_chunks):\n",
    "    input_buffer[2 * i] = chunk[0]\n",
    "    input_buffer[2 * i + 1] = chunk[1]\n",
    "\n",
    "key = np.load(\"key.npy\")\n",
    "print(key,key.dtype)\n",
    "\n",
    "input_buffer[20] = key[1]\n",
    "input_buffer[21] = key[0]\n",
    "input_buffer[22] = 0\n",
    "input_buffer[23] = 0\n",
    "\n",
    "print(input_buffer)\n",
    "print(num_entries)\n",
    "print(len(input_buffer))"
   ]
  },
  {
   "cell_type": "code",
   "execution_count": 12,
   "id": "88a39a3a",
   "metadata": {},
   "outputs": [],
   "source": [
    "# input_buffer = allocate(shape=(80000,), dtype=np.uint32)\n",
    "# output_buffer = allocate(shape=(80000,), dtype=np.uint32)\n",
    "\n",
    "# for i in range(80000-4):\n",
    "#    input_buffer[i+4] =9*i\n",
    "\n",
    "# # input_buffer[0] = 255\n",
    "# # input_buffer[2] = 235\n",
    "# # input_buffer[4] = 355\n",
    "# # input_buffer[6] = 455\n",
    "\n",
    "# input_buffer[0] = 4294967295\n",
    "# input_buffer[1] = 10\n",
    "# input_buffer[2] = 4294967200\n",
    "# input_buffer[3] = 5\n",
    "\n",
    "# # input_buffer[0] = 15\n",
    "# # input_buffer[1] = 10\n",
    "# # input_buffer[2] = 13\n",
    "# # input_buffer[3] = 12\n",
    "\n",
    "\n",
    "# # output_buffer[1] = 15\n",
    "# print(input_buffer)\n",
    "# print(output_buffer)\n",
    "\n",
    "# print(input_buffer.physical_address)\n",
    "# assert input_buffer.physical_address % 64 == 0, \"Buffer is NOT 64-byte aligned!\""
   ]
  },
  {
   "cell_type": "code",
   "execution_count": 13,
   "id": "97d39948",
   "metadata": {},
   "outputs": [],
   "source": [
    "# input_buffer = allocate(shape=(20,), dtype=np.uint32)\n",
    "# output_buffer = allocate(shape=(20,), dtype=np.uint32)\n",
    "\n",
    "# for i in range(16):\n",
    "#    input_buffer[i] = i\n",
    "\n",
    "# # input_buffer[0] = 15\n",
    "# # input_buffer[1] = 10\n",
    "# # input_buffer[2] = 4\n",
    "# # input_buffer[3] = 8\n",
    "\n",
    "# # input_buffer[4] = 2\n",
    "# # input_buffer[5] = 0\n",
    "# # input_buffer[6] = 1\n",
    "# # input_buffer[7] = 3\n",
    "\n",
    "# # input_buffer[8] = 9\n",
    "# # input_buffer[9] = 7\n",
    "# # input_buffer[10] = 5\n",
    "# # input_buffer[11] = 6\n",
    "\n",
    "# input_buffer[16] = 250\n",
    "# input_buffer[17] = 255\n",
    "# input_buffer[18] = 253\n",
    "# input_buffer[19] = 250\n",
    "\n",
    "# print(input_buffer)\n",
    "# print(output_buffer)"
   ]
  },
  {
   "cell_type": "code",
   "execution_count": 9,
   "id": "10e9d50e",
   "metadata": {},
   "outputs": [],
   "source": [
    "dma = ol.axi_dma_0"
   ]
  },
  {
   "cell_type": "code",
   "execution_count": 10,
   "id": "b256f240",
   "metadata": {},
   "outputs": [],
   "source": [
    "#FLUSH & INVALIDATE BUFFERS\n",
    "input_buffer.flush()         # Ensure data is written to memory before DMA reads it\n",
    "output_buffer.invalidate()   # Ensure CPU reads fresh data after DMA writes it\n"
   ]
  },
  {
   "cell_type": "code",
   "execution_count": 16,
   "id": "67d6026b",
   "metadata": {},
   "outputs": [],
   "source": [
    "# buffer_size = 0xFD200  # Half of previous size\n",
    "# new_input_buffer = allocate(shape=(buffer_size,), dtype=np.uint32)\n",
    "# new_output_buffer = allocate(shape=(buffer_size,), dtype=np.uint32)\n",
    "\n",
    "# new_input_buffer[:] = input_buffer[0:buffer_size]\n",
    "\n",
    "# new_input_buffer.flush()         # Ensure data is written to memory before DMA reads it\n",
    "# new_output_buffer.invalidate()   # Ensure CPU reads fresh data after DMA writes it"
   ]
  },
  {
   "cell_type": "code",
   "execution_count": 17,
   "id": "f43051e9",
   "metadata": {},
   "outputs": [],
   "source": [
    "# dma.sendchannel.stop()\n",
    "# dma.recvchannel.stop()\n",
    "\n",
    "# dma.register_map.MM2S_DMACR.Reset = 1  # Reset MM2S (Memory to Stream)\n",
    "# dma.register_map.S2MM_DMACR.Reset = 1  # Reset S2MM (Stream to Memory)\n",
    "\n",
    "\n",
    "# while dma.register_map.MM2S_DMACR.Reset:\n",
    "#     pass  \n",
    "# while dma.register_map.S2MM_DMACR.Reset:\n",
    "#     pass\n",
    "\n",
    "# dma.sendchannel.start()\n",
    "# dma.recvchannel.start()\n",
    "\n",
    "# print(\"DMA S2MM Status:\", hex(dma.register_map.S2MM_DMASR))\n",
    "# print(\"DMA MM2S Status:\", hex(dma.register_map.MM2S_DMASR))\n",
    "# print(\"Send Channel Running:\", dma.sendchannel.running)\n",
    "# print(\"Receive Channel Running:\", dma.recvchannel.running)"
   ]
  },
  {
   "cell_type": "code",
   "execution_count": 18,
   "id": "e4ada007",
   "metadata": {},
   "outputs": [],
   "source": [
    "# dma?"
   ]
  },
  {
   "cell_type": "code",
   "execution_count": 19,
   "id": "7b338c39",
   "metadata": {},
   "outputs": [],
   "source": [
    "# dma.sendchannel.start()\n",
    "# dma.recvchannel.start()"
   ]
  },
  {
   "cell_type": "code",
   "execution_count": null,
   "id": "7d9e6801",
   "metadata": {},
   "outputs": [],
   "source": []
  },
  {
   "cell_type": "code",
   "execution_count": null,
   "id": "c01a154e",
   "metadata": {},
   "outputs": [],
   "source": []
  },
  {
   "cell_type": "code",
   "execution_count": 11,
   "id": "6b6bdc0e",
   "metadata": {
    "scrolled": false
   },
   "outputs": [
    {
     "name": "stdout",
     "output_type": "stream",
     "text": [
      "Send Channel Idle: False\n",
      "Receive Channel Idle: False\n",
      "MM2S Transfer Length: 0x7e9060\n",
      "DMA S2MM Status: 0x1002\n",
      "DMA MM2S Status: 0x1002\n"
     ]
    }
   ],
   "source": [
    "# dma.sendchannel.transfer(input_buffer)\n",
    "dma.sendchannel.transfer(input_buffer)\n",
    "dma.recvchannel.transfer(output_buffer)\n",
    "print(\"Send Channel Idle:\", dma.sendchannel.idle)\n",
    "print(\"Receive Channel Idle:\", dma.recvchannel.idle)\n",
    "print(\"MM2S Transfer Length:\", hex(dma.register_map.MM2S_LENGTH))\n",
    "print(\"DMA S2MM Status:\", hex(dma.register_map.S2MM_DMASR))\n",
    "print(\"DMA MM2S Status:\", hex(dma.register_map.MM2S_DMASR))\n",
    "\n",
    "dma.sendchannel.wait()\n",
    "dma.recvchannel.wait()"
   ]
  },
  {
   "cell_type": "code",
   "execution_count": 11,
   "id": "f391b2f8",
   "metadata": {
    "scrolled": true
   },
   "outputs": [
    {
     "name": "stdout",
     "output_type": "stream",
     "text": [
      "[        0         0         0 ... 201590012 134217980 134217980]\n",
      "[0 0 0 ... 0 0 0]\n",
      "uint32\n"
     ]
    }
   ],
   "source": [
    "print(input_buffer)\n",
    "print(output_buffer)\n",
    "print(output_buffer.dtype)"
   ]
  },
  {
   "cell_type": "code",
   "execution_count": 12,
   "id": "8303b278",
   "metadata": {},
   "outputs": [
    {
     "name": "stdout",
     "output_type": "stream",
     "text": [
      "[[ 12   0   4 252]\n",
      " [ 12   4   4 252]\n",
      " [ 16   4   4 252]\n",
      " [ 12   0   4 252]\n",
      " [ 12   4   4 252]\n",
      " [ 16   4   4 252]\n",
      " [ 12   4   4 252]\n",
      " [ 12   4   4 252]\n",
      " [ 16   4   4 252]\n",
      " [ 16   4   0 252]\n",
      " [ 16   4   0 252]\n",
      " [ 16   4   0 252]\n",
      " [ 16   4   0 252]\n",
      " [ 16   4   0 252]\n",
      " [ 16   8   0 252]\n",
      " [ 16   4   0 252]\n",
      " [ 16   4   0 252]\n",
      " [ 16   8   4 252]]\n",
      "[         0          0          0  134217728          0  134217856\n",
      " 2147483648  134225920   67108864  268501024    8388608  134480385\n",
      "  269484032  135270416   33816576  135282817  545390592  136348168\n",
      "   69238784  138479649 1395724288        116          0          0]\n",
      "[0 0 0 0 0 0 0 0 0 0 0 0 0 0 0 0 0 0 0 0 0 0 0 0]\n"
     ]
    }
   ],
   "source": [
    "print(img[0,:18,:])\n",
    "print(input_buffer[:24])\n",
    "print(output_buffer[:24])"
   ]
  },
  {
   "cell_type": "code",
   "execution_count": 13,
   "id": "94c500b2",
   "metadata": {},
   "outputs": [
    {
     "name": "stdout",
     "output_type": "stream",
     "text": [
      "Send Channel Idle: True\n",
      "Receive Channel Idle: True\n"
     ]
    }
   ],
   "source": [
    "print(\"Send Channel Idle:\", dma.sendchannel.idle)\n",
    "print(\"Receive Channel Idle:\", dma.recvchannel.idle)"
   ]
  },
  {
   "cell_type": "code",
   "execution_count": 24,
   "id": "7e6053a4",
   "metadata": {
    "scrolled": true
   },
   "outputs": [],
   "source": [
    "# mask = np.uint32(0xFCFCFCFC)\n",
    "# expected_output = input_buffer & mask\n",
    "# if np.array_equal(expected_output, output_buffer):\n",
    "#     print(\"Output matches expected values!\")\n",
    "# else:\n",
    "#     print(\"Output does NOT match expected values!\")"
   ]
  },
  {
   "cell_type": "code",
   "execution_count": 12,
   "id": "37d95e5f",
   "metadata": {},
   "outputs": [
    {
     "name": "stdout",
     "output_type": "stream",
     "text": [
      "Decrypted sound is saved.\n"
     ]
    }
   ],
   "source": [
    "# Decrypted Sound\n",
    "decrypted_sound = output_buffer.astype(np.int32).reshape(-1, 2)\n",
    "\n",
    "np.save(\"decrypted_sound_img7_v45\",decrypted_sound)\n",
    "print(\"Decrypted sound is saved.\")"
   ]
  },
  {
   "cell_type": "code",
   "execution_count": 26,
   "id": "263f0b72",
   "metadata": {},
   "outputs": [],
   "source": [
    "# print(output_buffer - expected_output)"
   ]
  },
  {
   "cell_type": "code",
   "execution_count": 27,
   "id": "fb518e10",
   "metadata": {},
   "outputs": [],
   "source": [
    "# print(expected_output)"
   ]
  },
  {
   "cell_type": "code",
   "execution_count": 28,
   "id": "68b28845",
   "metadata": {},
   "outputs": [],
   "source": [
    "# print(output_buffer)"
   ]
  },
  {
   "cell_type": "code",
   "execution_count": null,
   "id": "90c25292",
   "metadata": {},
   "outputs": [],
   "source": []
  },
  {
   "cell_type": "code",
   "execution_count": 29,
   "id": "a0791bd7",
   "metadata": {},
   "outputs": [],
   "source": [
    "# print(max(flattened_data))"
   ]
  },
  {
   "cell_type": "code",
   "execution_count": 30,
   "id": "433f6af8",
   "metadata": {},
   "outputs": [],
   "source": [
    "# print(min(flattened_data))"
   ]
  },
  {
   "cell_type": "code",
   "execution_count": 31,
   "id": "67203412",
   "metadata": {},
   "outputs": [],
   "source": [
    "# print(len(output_buffer))"
   ]
  },
  {
   "cell_type": "code",
   "execution_count": null,
   "id": "082b717b",
   "metadata": {},
   "outputs": [],
   "source": []
  }
 ],
 "metadata": {
  "kernelspec": {
   "display_name": "Python 3 (ipykernel)",
   "language": "python",
   "name": "python3"
  },
  "language_info": {
   "codemirror_mode": {
    "name": "ipython",
    "version": 3
   },
   "file_extension": ".py",
   "mimetype": "text/x-python",
   "name": "python",
   "nbconvert_exporter": "python",
   "pygments_lexer": "ipython3",
   "version": "3.10.4"
  }
 },
 "nbformat": 4,
 "nbformat_minor": 5
}
