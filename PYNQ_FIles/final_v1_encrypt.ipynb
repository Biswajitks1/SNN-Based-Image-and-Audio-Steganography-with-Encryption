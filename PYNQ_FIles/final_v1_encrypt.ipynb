{
 "cells": [
  {
   "cell_type": "code",
   "execution_count": 1,
   "id": "69f77090",
   "metadata": {},
   "outputs": [
    {
     "data": {
      "application/javascript": [
       "\n",
       "try {\n",
       "require(['notebook/js/codecell'], function(codecell) {\n",
       "  codecell.CodeCell.options_default.highlight_modes[\n",
       "      'magic_text/x-csrc'] = {'reg':[/^%%microblaze/]};\n",
       "  Jupyter.notebook.events.one('kernel_ready.Kernel', function(){\n",
       "      Jupyter.notebook.get_cells().map(function(cell){\n",
       "          if (cell.cell_type == 'code'){ cell.auto_highlight(); } }) ;\n",
       "  });\n",
       "});\n",
       "} catch (e) {};\n"
      ]
     },
     "metadata": {},
     "output_type": "display_data"
    },
    {
     "data": {
      "application/javascript": [
       "\n",
       "try {\n",
       "require(['notebook/js/codecell'], function(codecell) {\n",
       "  codecell.CodeCell.options_default.highlight_modes[\n",
       "      'magic_text/x-csrc'] = {'reg':[/^%%pybind11/]};\n",
       "  Jupyter.notebook.events.one('kernel_ready.Kernel', function(){\n",
       "      Jupyter.notebook.get_cells().map(function(cell){\n",
       "          if (cell.cell_type == 'code'){ cell.auto_highlight(); } }) ;\n",
       "  });\n",
       "});\n",
       "} catch (e) {};\n"
      ]
     },
     "metadata": {},
     "output_type": "display_data"
    }
   ],
   "source": [
    "import numpy as np\n",
    "import cv2\n",
    "import csv\n",
    "from pynq import allocate\n",
    "from pynq import Overlay\n",
    "\n",
    "ol = Overlay('bitstream/final_v1_45_encrypt.bit') \n",
    "ol?"
   ]
  },
  {
   "cell_type": "code",
   "execution_count": 3,
   "id": "15e25ae8",
   "metadata": {},
   "outputs": [],
   "source": [
    "# #testing few stuff\n",
    "# test_val = np.int64(-99999)\n",
    "# test_all = allocate(shape=(1,), dtype=np.uint32)\n",
    "# test_all[0] = test_val\n",
    "# print(type(test_all[0]))\n",
    "# print(test_all)"
   ]
  },
  {
   "cell_type": "code",
   "execution_count": 3,
   "id": "74d65363",
   "metadata": {},
   "outputs": [
    {
     "name": "stdout",
     "output_type": "stream",
     "text": [
      "61\n",
      "[[0, 0, 0, 0, 0, 0, 0, 0, 0, 0, 0, 0, 0, 0, 0, 0, 0, 0, 0, 0, 0, 0, 0, 0, 0, 0, 0, 0, 0, 0, 0, 0, 0, 0, 0, 0, 0, 0, 0, 0, 0, 0, 0, 0, 0, 0, 0, 0, 0, 0, 0, 0, 0, 0, 0, 0, 0, 0, 0, 0, 0], [0, 0, 0, 0, 0, 0, 0, 0, 0, 0, 0, 0, 0, 0, 0, 0, 0, 0, 0, 0, 0, 0, 0, 0, 0, 0, 0, 0, 0, 0, 0, 0, 0, 0, 0, 0, 0, 0, 0, 0, 0, 0, 0, 0, 0, 0, 0, 0, 0, 0, 0, 0, 0, 0, 0, 0, 0, 0, 0, 1, 0], [0, 0, 0, 0, 0, 0, 0, 0, 0, 0, 0, 0, 0, 0, 0, 0, 0, 0, 0, 0, 0, 0, 0, 0, 0, 0, 0, 0, 0, 0, 0, 0, 0, 0, 0, 0, 0, 0, 0, 1, 0, 0, 0, 0, 0, 0, 0, 0, 0, 0, 0, 0, 0, 0, 0, 0, 0, 0, 0, 1, 0], [0, 0, 0, 0, 0, 0, 0, 0, 0, 0, 0, 0, 0, 0, 0, 0, 0, 0, 0, 0, 0, 0, 0, 0, 0, 0, 0, 0, 0, 0, 0, 1, 0, 0, 0, 0, 0, 0, 0, 0, 0, 0, 0, 0, 0, 1, 0, 0, 0, 0, 0, 0, 0, 0, 0, 0, 0, 0, 0, 1, 0], [0, 0, 0, 0, 0, 0, 0, 0, 0, 0, 0, 0, 0, 0, 0, 0, 0, 0, 0, 0, 0, 0, 0, 0, 0, 0, 1, 0, 0, 0, 0, 0, 0, 0, 0, 0, 0, 1, 0, 0, 0, 0, 0, 0, 0, 0, 0, 0, 1, 0, 0, 0, 0, 0, 0, 0, 0, 0, 0, 0, 1], [0, 0, 0, 0, 0, 0, 0, 0, 0, 0, 0, 0, 0, 0, 0, 0, 0, 0, 0, 0, 0, 0, 0, 1, 0, 0, 0, 0, 0, 0, 0, 0, 1, 0, 0, 0, 0, 0, 0, 0, 0, 1, 0, 0, 0, 0, 0, 0, 0, 0, 1, 0, 0, 0, 0, 0, 0, 0, 0, 1, 0], [0, 0, 0, 0, 0, 0, 0, 0, 0, 0, 0, 0, 0, 0, 0, 0, 0, 0, 0, 0, 1, 0, 0, 0, 0, 0, 0, 0, 1, 0, 0, 0, 0, 0, 0, 0, 1, 0, 0, 0, 0, 0, 0, 0, 1, 0, 0, 0, 0, 0, 0, 0, 1, 0, 0, 0, 0, 0, 0, 1, 0], [0, 0, 0, 0, 0, 0, 0, 0, 0, 0, 0, 0, 0, 0, 0, 0, 0, 0, 1, 0, 0, 0, 0, 0, 0, 1, 0, 0, 0, 0, 0, 0, 1, 0, 0, 0, 0, 0, 0, 1, 0, 0, 0, 0, 0, 0, 1, 0, 0, 0, 0, 0, 1, 0, 0, 0, 0, 0, 0, 1, 0], [0, 0, 0, 0, 0, 0, 0, 0, 0, 0, 0, 0, 0, 0, 0, 0, 0, 1, 0, 0, 0, 0, 0, 1, 0, 0, 0, 0, 0, 1, 0, 0, 0, 0, 0, 1, 0, 0, 0, 0, 0, 1, 0, 0, 0, 0, 0, 1, 0, 0, 0, 0, 0, 1, 0, 0, 0, 0, 0, 1, 0], [0, 0, 0, 0, 0, 0, 0, 0, 0, 0, 0, 0, 0, 0, 0, 1, 0, 0, 0, 0, 0, 1, 0, 0, 0, 0, 1, 0, 0, 0, 0, 0, 1, 0, 0, 0, 0, 1, 0, 0, 0, 0, 0, 1, 0, 0, 0, 0, 1, 0, 0, 0, 0, 0, 1, 0, 0, 0, 0, 1, 0]]\n",
      "[0, 59, 39, 45, 37, 50, 44, 52, 41, 54]\n"
     ]
    }
   ],
   "source": [
    "#loading the pattern from .csv and choosing the 1\n",
    "\n",
    "patterns = []  # each item is a list of 0/1 for that digit (digit 1-9)\n",
    "\n",
    "with open(\"NEST_output/normalized_matrix.csv\", \"r\") as file:\n",
    "    reader = csv.reader(file)\n",
    "    rows = list(reader)  # Load all rows into memory\n",
    "\n",
    "    if rows:\n",
    "        pattern_length = len(rows[0])  # Get the number of bits per pattern\n",
    "#         patterns.append([0] * pattern_length)  # Add the 0th pattern (all zeros)\n",
    "\n",
    "        for row in rows:\n",
    "            pattern = [int(float(bit.strip())) for bit in row]\n",
    "            patterns.append(pattern)\n",
    "            \n",
    "print(len(patterns[0]))\n",
    "print(patterns)\n",
    "\n",
    "choosen_ones = [0,59,39,45,37,50,44,52,41,54]\n",
    "print(choosen_ones)"
   ]
  },
  {
   "cell_type": "code",
   "execution_count": 4,
   "id": "71a3fe1a",
   "metadata": {},
   "outputs": [
    {
     "name": "stdout",
     "output_type": "stream",
     "text": [
      "[(0, 0), (0, 134217728), (0, 134217856), (2147483648, 134225920), (67108864, 268501024), (8388608, 134480385), (269484032, 135270416), (33816576, 135282817), (545390592, 136348168), (69238784, 138479649)]\n",
      "[10253824, 13126189, 10774572, 54]\n"
     ]
    }
   ],
   "source": [
    "def pad_and_chunk_pattern(pattern):\n",
    "    padded = pattern + [0] * (64 - len(pattern))  # add 3 zeros\n",
    "    bitstring = \"\".join(str(bit) for bit in padded[::-1])  # reverse the bit list\n",
    "    chunk_high = int(bitstring[32:64], 2)  # bits 32 to 63\n",
    "    chunk_low =  int(bitstring[0:32], 2)  # bits 0 to 31\n",
    "    return chunk_high, chunk_low\n",
    "\n",
    "def pack_choosen_values(choosen_list):\n",
    "    assert len(choosen_list) == 10\n",
    "    chunks = []\n",
    "    for i in range(0, 9, 3):  # process 3 values per chunk\n",
    "        val0 = choosen_list[i]     & 0x1FF  # 9 bits\n",
    "        val1 = choosen_list[i + 1] & 0x1FF\n",
    "        val2 = choosen_list[i + 2] & 0x1FF\n",
    "\n",
    "        chunk = (val2 << 18) | (val1 << 9) | val0  # pack into 0–26 bits\n",
    "        chunks.append(chunk)\n",
    "    chunks.append(choosen_list[9] & 0x1FF)\n",
    "    return chunks\n",
    "\n",
    "packed_chunks = []  # list of (high, low) tuples\n",
    "\n",
    "for pattern in patterns:\n",
    "    high, low = pad_and_chunk_pattern(pattern)\n",
    "    packed_chunks.append((high, low))\n",
    "    \n",
    "\n",
    "print(packed_chunks)\n",
    "\n",
    "choosen_chunks = pack_choosen_values(choosen_ones)\n",
    "print(choosen_chunks)"
   ]
  },
  {
   "cell_type": "code",
   "execution_count": 6,
   "id": "f4989763",
   "metadata": {},
   "outputs": [
    {
     "name": "stdout",
     "output_type": "stream",
     "text": [
      "Image Shape: (1080, 1920, 4)\n",
      "Image Width: 1920, Height: 1080\n",
      "Number of Channels: 4\n",
      "Data Type: uint8\n"
     ]
    }
   ],
   "source": [
    "# #image analysis\n",
    "\n",
    "img_path = \"input_images/7.png\"\n",
    "# Load image\n",
    "img = cv2.imread(img_path, cv2.IMREAD_UNCHANGED)  # Preserve alpha channel\n",
    "\n",
    "if img is None:\n",
    "    print(f\"Skipping {img_file}: Unable to read\")\n",
    "    exit()\n",
    "\n",
    "if img.shape[2] != 4:\n",
    "    print(f\"Skipping {img_path}: Not a 4-channel image\")\n",
    "    exit()\n",
    "\n",
    "# Get image details\n",
    "height, width = img.shape[:2]\n",
    "channels = img.shape[2]\n",
    "dtype = img.dtype  # Data type of image pixels\n",
    "\n",
    "# Print image details\n",
    "print(f\"Image Shape: {img.shape}\")\n",
    "print(f\"Image Width: {width}, Height: {height}\")\n",
    "print(f\"Number of Channels: {channels}\")\n",
    "print(f\"Data Type: {dtype}\")  "
   ]
  },
  {
   "cell_type": "code",
   "execution_count": 7,
   "id": "a3e4fe6f",
   "metadata": {},
   "outputs": [],
   "source": []
  },
  {
   "cell_type": "code",
   "execution_count": 7,
   "id": "d4971de9",
   "metadata": {},
   "outputs": [
    {
     "name": "stdout",
     "output_type": "stream",
     "text": [
      "int64\n",
      "691200\n"
     ]
    }
   ],
   "source": [
    "# # # sound stuff\n",
    "sound_data = np.load(\"sound/data1.npy\")  # Shape: (N, 2)\n",
    "\n",
    "flattened_data = sound_data.flatten()  # Convert to 1D (interleaved left-right channels)\n",
    "num_pixels = height * width\n",
    "num_sound_values = num_pixels // 3  # One sound value per 3 pixels\n",
    "num_entries = num_pixels + num_sound_values\n",
    "\n",
    "if len(flattened_data) < num_sound_values:\n",
    "    # Pad with 0s if sound data is smaller\n",
    "    flattened_data = np.concatenate([flattened_data, np.zeros(num_sound_values - len(flattened_data), dtype=np.int64)])\n",
    "\n",
    "if len(flattened_data) > num_sound_values:\n",
    "    flattened_data = flattened_data[:num_sound_values]\n",
    "    print(\"Can't fit the whole sound in image it is sliced\")\n",
    "    \n",
    "print(flattened_data.dtype)\n",
    "print(num_sound_values)"
   ]
  },
  {
   "cell_type": "code",
   "execution_count": 6,
   "id": "5953d376",
   "metadata": {},
   "outputs": [
    {
     "name": "stdout",
     "output_type": "stream",
     "text": [
      "[0 0 0 0 0 0 0 0 0 0]\n",
      "(691200,)\n"
     ]
    }
   ],
   "source": []
  },
  {
   "cell_type": "code",
   "execution_count": 8,
   "id": "725d7546",
   "metadata": {},
   "outputs": [
    {
     "name": "stdout",
     "output_type": "stream",
     "text": [
      "Data embedded successfully!\n"
     ]
    }
   ],
   "source": [
    "img_flat = img.reshape(-1, 4).astype(np.uint32)\n",
    "bgra_values = (img_flat[:, 0] << 24) | (img_flat[:, 1] << 16) | (img_flat[:, 2] << 8) | img_flat[:, 3]\n",
    "\n",
    "input_buffer = allocate(shape=(num_entries + 24,), dtype=np.uint32)\n",
    "output_buffer = allocate(shape=(height * width + 2,), dtype=np.uint32)\n",
    "\n",
    "interleaved = np.zeros(num_entries, dtype=np.uint32)\n",
    "\n",
    "sound_positions = np.arange(3, num_entries, 4)\n",
    "img_positions = np.delete(np.arange(num_entries), sound_positions)\n",
    "\n",
    "interleaved[img_positions[:len(bgra_values)]] = bgra_values\n",
    "\n",
    "interleaved[sound_positions[:len(flattened_data)]] = flattened_data[:len(sound_positions)]\n",
    "\n",
    "input_buffer[24:] = interleaved\n",
    "\n",
    "print(\"Data embedded successfully!\")"
   ]
  },
  {
   "cell_type": "code",
   "execution_count": 9,
   "id": "ae39a7d8",
   "metadata": {},
   "outputs": [
    {
     "name": "stdout",
     "output_type": "stream",
     "text": [
      "[  0   0   1 255]\n",
      "[        0         0         0 ... 370489343      4863         0]\n",
      "[0 0 0 ... 0 0 0]\n",
      "uint32\n"
     ]
    }
   ],
   "source": [
    "print(img[0,0])\n",
    "print(input_buffer)\n",
    "print(output_buffer)\n",
    "print(input_buffer.dtype)"
   ]
  },
  {
   "cell_type": "code",
   "execution_count": 10,
   "id": "ee90d16f",
   "metadata": {},
   "outputs": [
    {
     "name": "stdout",
     "output_type": "stream",
     "text": [
      "[        0         0         0 ... 370489343      4863         0]\n",
      "2764800\n",
      "2764824\n"
     ]
    }
   ],
   "source": [
    "#writing initial 24 values\n",
    "for i, chunk in enumerate(packed_chunks):\n",
    "    input_buffer[2 * i] = chunk[0]\n",
    "    input_buffer[2 * i + 1] = chunk[1]\n",
    "\n",
    "input_buffer[20] = choosen_chunks[0]\n",
    "input_buffer[21] = choosen_chunks[1]\n",
    "input_buffer[22] = choosen_chunks[2]\n",
    "input_buffer[23] = choosen_chunks[3]\n",
    "\n",
    "print(input_buffer)\n",
    "print(num_entries)\n",
    "print(len(input_buffer))"
   ]
  },
  {
   "cell_type": "code",
   "execution_count": 13,
   "id": "88a39a3a",
   "metadata": {},
   "outputs": [],
   "source": []
  },
  {
   "cell_type": "code",
   "execution_count": 14,
   "id": "97d39948",
   "metadata": {},
   "outputs": [],
   "source": []
  },
  {
   "cell_type": "code",
   "execution_count": 11,
   "id": "10e9d50e",
   "metadata": {},
   "outputs": [],
   "source": [
    "dma = ol.axi_dma_0"
   ]
  },
  {
   "cell_type": "code",
   "execution_count": 12,
   "id": "b256f240",
   "metadata": {},
   "outputs": [],
   "source": [
    "#FLUSH & INVALIDATE BUFFERS\n",
    "input_buffer.flush()         # Ensure data is written to memory before DMA reads it\n",
    "output_buffer.invalidate()   # Ensure CPU reads fresh data after DMA writes it\n"
   ]
  },
  {
   "cell_type": "code",
   "execution_count": 12,
   "id": "67d6026b",
   "metadata": {},
   "outputs": [],
   "source": []
  },
  {
   "cell_type": "code",
   "execution_count": 13,
   "id": "f43051e9",
   "metadata": {},
   "outputs": [],
   "source": [
    "# dma.sendchannel.stop()\n",
    "# dma.recvchannel.stop()\n",
    "\n",
    "# dma.register_map.MM2S_DMACR.Reset = 1  # Reset MM2S (Memory to Stream)\n",
    "# dma.register_map.S2MM_DMACR.Reset = 1  # Reset S2MM (Stream to Memory)\n",
    "\n",
    "\n",
    "# while dma.register_map.MM2S_DMACR.Reset:\n",
    "#     pass  \n",
    "# while dma.register_map.S2MM_DMACR.Reset:\n",
    "#     pass\n",
    "\n",
    "# dma.sendchannel.start()\n",
    "# dma.recvchannel.start()\n",
    "\n",
    "# print(\"DMA S2MM Status:\", hex(dma.register_map.S2MM_DMASR))\n",
    "# print(\"DMA MM2S Status:\", hex(dma.register_map.MM2S_DMASR))\n",
    "# print(\"Send Channel Running:\", dma.sendchannel.running)\n",
    "# print(\"Receive Channel Running:\", dma.recvchannel.running)"
   ]
  },
  {
   "cell_type": "code",
   "execution_count": 14,
   "id": "e4ada007",
   "metadata": {},
   "outputs": [],
   "source": []
  },
  {
   "cell_type": "code",
   "execution_count": 15,
   "id": "7b338c39",
   "metadata": {},
   "outputs": [],
   "source": []
  },
  {
   "cell_type": "code",
   "execution_count": null,
   "id": "7d9e6801",
   "metadata": {},
   "outputs": [],
   "source": []
  },
  {
   "cell_type": "code",
   "execution_count": null,
   "id": "c01a154e",
   "metadata": {},
   "outputs": [],
   "source": []
  },
  {
   "cell_type": "code",
   "execution_count": 13,
   "id": "6b6bdc0e",
   "metadata": {
    "scrolled": false
   },
   "outputs": [
    {
     "name": "stdout",
     "output_type": "stream",
     "text": [
      "Send Channel Idle: False\n",
      "Receive Channel Idle: False\n",
      "MM2S Transfer Length: 0xa8c060\n",
      "DMA S2MM Status: 0x1002\n",
      "DMA MM2S Status: 0x1002\n"
     ]
    }
   ],
   "source": [
    "# dma.sendchannel.transfer(input_buffer)\n",
    "dma.sendchannel.transfer(input_buffer)\n",
    "dma.recvchannel.transfer(output_buffer)\n",
    "print(\"Send Channel Idle:\", dma.sendchannel.idle)\n",
    "print(\"Receive Channel Idle:\", dma.recvchannel.idle)\n",
    "print(\"MM2S Transfer Length:\", hex(dma.register_map.MM2S_LENGTH))\n",
    "print(\"DMA S2MM Status:\", hex(dma.register_map.S2MM_DMASR))\n",
    "print(\"DMA MM2S Status:\", hex(dma.register_map.MM2S_DMASR))\n",
    "\n",
    "dma.sendchannel.wait()\n",
    "dma.recvchannel.wait()"
   ]
  },
  {
   "cell_type": "code",
   "execution_count": 14,
   "id": "f391b2f8",
   "metadata": {
    "scrolled": true
   },
   "outputs": [
    {
     "name": "stdout",
     "output_type": "stream",
     "text": [
      "[        0         0         0 ... 370489343      4863         0]\n",
      "[       116 1395724288        252 ...      12540  336868604       4348]\n",
      "uint32\n"
     ]
    }
   ],
   "source": [
    "print(input_buffer)\n",
    "print(output_buffer)\n",
    "print(output_buffer.dtype)"
   ]
  },
  {
   "cell_type": "code",
   "execution_count": 15,
   "id": "8303b278",
   "metadata": {},
   "outputs": [
    {
     "name": "stdout",
     "output_type": "stream",
     "text": [
      "[[  0   0   1 255]\n",
      " [  5   4   6 255]\n",
      " [ 11   6   5 255]\n",
      " [ 10   0   0 255]\n",
      " [ 13   2   0 255]\n",
      " [ 14   3   0 255]\n",
      " [ 10   4   0 255]\n",
      " [ 11   5   0 255]\n",
      " [ 12   4   0 255]\n",
      " [ 12   4   0 255]\n",
      " [ 12   3   0 255]\n",
      " [ 12   3   0 255]\n",
      " [ 10   4   0 255]\n",
      " [ 12   3   0 255]\n",
      " [ 12   4   0 255]\n",
      " [ 14   3   0 255]\n",
      " [ 13   4   0 255]\n",
      " [ 13   4   1 255]]\n",
      "[         0          0          0  134217728          0  134217856\n",
      " 2147483648  134225920   67108864  268501024    8388608  134480385\n",
      "  269484032  135270416   33816576  135282817  545390592  136348168\n",
      "   69238784  138479649   10253824   13126189   10774572         54]\n",
      "[       116 1395724288        252   67372284  201852156  134217980\n",
      "  201326844  268697852  134480124  201588988  201588988  201588988\n",
      "  201588988  201588988  134480124  201588988  201588988  201326844\n",
      "  201588988  201588988  201588988  201588988  201588988  201588988]\n"
     ]
    }
   ],
   "source": [
    "print(img[0,:18,:])\n",
    "print(input_buffer[:24])\n",
    "print(output_buffer[:24])"
   ]
  },
  {
   "cell_type": "code",
   "execution_count": 16,
   "id": "94c500b2",
   "metadata": {},
   "outputs": [
    {
     "name": "stdout",
     "output_type": "stream",
     "text": [
      "Send Channel Idle: True\n",
      "Receive Channel Idle: True\n"
     ]
    }
   ],
   "source": [
    "print(\"Send Channel Idle:\", dma.sendchannel.idle)\n",
    "print(\"Receive Channel Idle:\", dma.recvchannel.idle)"
   ]
  },
  {
   "cell_type": "code",
   "execution_count": 25,
   "id": "7e6053a4",
   "metadata": {
    "scrolled": true
   },
   "outputs": [],
   "source": []
  },
  {
   "cell_type": "code",
   "execution_count": 16,
   "id": "bababc2f",
   "metadata": {},
   "outputs": [
    {
     "name": "stdout",
     "output_type": "stream",
     "text": [
      "[116, 1395724288]\n",
      "[      252  67372284 201852156 ...     12540 336868604      4348]\n",
      "2073600\n",
      "uint32\n"
     ]
    }
   ],
   "source": [
    "#saving the key and changing the ouptut buffer\n",
    "key = []\n",
    "key.append(output_buffer[0])\n",
    "key.append(output_buffer[1])\n",
    "print(key)\n",
    "\n",
    "key_array = np.array(key)\n",
    "np.save(\"key.npy\", key_array)\n",
    "\n",
    "new_output_buffer = output_buffer[2:]\n",
    "print(new_output_buffer)\n",
    "print(len(new_output_buffer))\n",
    "print(new_output_buffer.dtype)"
   ]
  },
  {
   "cell_type": "code",
   "execution_count": 18,
   "id": "37d95e5f",
   "metadata": {},
   "outputs": [
    {
     "name": "stdout",
     "output_type": "stream",
     "text": [
      "Encrypted image saved as ---------.png\n"
     ]
    }
   ],
   "source": [
    "# Reconstruct image from 32-bit output buffer\n",
    "\n",
    "image_flat = new_output_buffer[:height * width]\n",
    "\n",
    "B = ((image_flat >> 24) & 0xFF).astype(np.uint8)\n",
    "G = ((image_flat >> 16) & 0xFF).astype(np.uint8)\n",
    "R = ((image_flat >> 8) & 0xFF).astype(np.uint8)\n",
    "A = (image_flat & 0xFF).astype(np.uint8)\n",
    "\n",
    "reconstructed_img = np.stack([B, G, R, A], axis=1).reshape((height, width, 4))\n",
    "\n",
    "cv2.imwrite(\"encrypted_images/encrypt_7.png\", reconstructed_img)\n",
    "\n",
    "print(\"Encrypted image saved as ---------.png\")"
   ]
  },
  {
   "cell_type": "code",
   "execution_count": 27,
   "id": "263f0b72",
   "metadata": {},
   "outputs": [],
   "source": []
  },
  {
   "cell_type": "code",
   "execution_count": 28,
   "id": "fb518e10",
   "metadata": {},
   "outputs": [],
   "source": []
  },
  {
   "cell_type": "code",
   "execution_count": 29,
   "id": "68b28845",
   "metadata": {},
   "outputs": [],
   "source": []
  },
  {
   "cell_type": "code",
   "execution_count": null,
   "id": "90c25292",
   "metadata": {},
   "outputs": [],
   "source": []
  },
  {
   "cell_type": "code",
   "execution_count": 30,
   "id": "a0791bd7",
   "metadata": {},
   "outputs": [],
   "source": []
  },
  {
   "cell_type": "code",
   "execution_count": 31,
   "id": "433f6af8",
   "metadata": {},
   "outputs": [],
   "source": []
  },
  {
   "cell_type": "code",
   "execution_count": 32,
   "id": "67203412",
   "metadata": {},
   "outputs": [],
   "source": []
  },
  {
   "cell_type": "code",
   "execution_count": null,
   "id": "082b717b",
   "metadata": {},
   "outputs": [],
   "source": []
  }
 ],
 "metadata": {
  "kernelspec": {
   "display_name": "Python 3 (ipykernel)",
   "language": "python",
   "name": "python3"
  },
  "language_info": {
   "codemirror_mode": {
    "name": "ipython",
    "version": 3
   },
   "file_extension": ".py",
   "mimetype": "text/x-python",
   "name": "python",
   "nbconvert_exporter": "python",
   "pygments_lexer": "ipython3",
   "version": "3.10.4"
  }
 },
 "nbformat": 4,
 "nbformat_minor": 5
}
